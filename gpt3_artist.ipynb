{
  "nbformat": 4,
  "nbformat_minor": 0,
  "metadata": {
    "colab": {
      "name": "gpt3_artist.ipynb",
      "provenance": [],
      "collapsed_sections": []
    },
    "kernelspec": {
      "name": "python3",
      "display_name": "Python 3"
    },
    "language_info": {
      "name": "python"
    },
    "accelerator": "GPU"
  },
  "cells": [
    {
      "cell_type": "code",
      "metadata": {
        "id": "iiAjNnYDoZjl"
      },
      "source": [
        "#@title Скачиваем тексты песен исполнителя\n",
        "\n",
        "#@markdown Выберете максимальное количество композиций\n",
        "max_song = 80 #@param {type:\"slider\", min:20, max:80, step:1}\n",
        "\n",
        "#@markdown Напишите исполнителя\n",
        "artist_name = \"ZeroPeople\" #@param {type:\"string\"}\n",
        "\n",
        "#@markdown ### Тыкните на кнопку play :)\n",
        "\n",
        "!pip install lyricsgenius &> /dev/null\n",
        "\n",
        "import lyricsgenius\n",
        "import re\n",
        "\n",
        "genius = lyricsgenius.Genius(\"YOUR KEY\")\n",
        "artist = genius.search_artist(artist_name, max_songs=max_song)\n",
        "\n",
        "train_name = artist_name\n",
        "val_name = f\"{artist_name}_v\"\n",
        "dir_name = artist_name\n",
        "\n",
        "def clear_lyrics(text):\n",
        "  text = re.sub(\"[\\(\\[].*?[\\)\\]]\", '', text)\n",
        "  lines = text.split(\"\\n\")\n",
        "  non_empty_lines = [line for line in lines if line.strip() != \"\"]\n",
        "  string_without_empty_lines = \"\"\n",
        "  for line in non_empty_lines:\n",
        "      string_without_empty_lines += line + \"\\n\"\n",
        "  return \" \".join(string_without_empty_lines.split(\" \")[:-2])\n",
        "\n",
        "with open(train_name, \"w\") as myfile:\n",
        "    for song in artist.songs[:-8]:\n",
        "      text = clear_lyrics(song.lyrics).strip()\n",
        "      myfile.write(text)\n",
        "\n",
        "with open(val_name, \"w\") as myfile:\n",
        "    for song in artist.songs[-7:]:\n",
        "      text = clear_lyrics(song.lyrics)\n",
        "      myfile.write(text)"
      ],
      "execution_count": null,
      "outputs": []
    },
    {
      "cell_type": "code",
      "metadata": {
        "id": "YnxC-1WNqHSz",
        "cellView": "form"
      },
      "source": [
        "#@title Дообучение модели. Тут будет долго, поэтому без чая не обойтись.\n",
        "#@markdown В качестве ускорителя нужно выбрать GPU. Среда выполнения -> Сменить среду выполнения -> Аппаратный ускоритель -> GPU\n",
        "\n",
        "epoch_count = 20\n",
        "\n",
        "\n",
        "!pip install torch==1.4.0 &> /dev/null\n",
        "!pip3 install transformers==3.5.0 &> /dev/null\n",
        "!git clone  https://github.com/sberbank-ai/ru-gpts &> /dev/null\n",
        "!mkdir models/\n",
        "\n",
        "!export PYTHONPATH=${PYTHONPATH}:/ru-gpts/\n",
        "!CUDA_VISIBLE_DEVICES=0 python ru-gpts/pretrain_transformers.py \\\n",
        "    --output_dir=models/{artist_name} \\\n",
        "    --model_type=gpt2 \\\n",
        "    --model_name_or_path=sberbank-ai/rugpt3small_based_on_gpt2 \\\n",
        "    --do_train \\\n",
        "    --train_data_file={train_name} \\\n",
        "    --do_eval \\\n",
        "    --eval_data_file={val_name} \\\n",
        "    --per_gpu_train_batch_size 1 \\\n",
        "    --gradient_accumulation_steps 1 \\\n",
        "    --num_train_epochs {epoch_count} \\\n",
        "    --block_size 1024 \\\n",
        "    --overwrite_output_dir"
      ],
      "execution_count": null,
      "outputs": []
    },
    {
      "cell_type": "code",
      "metadata": {
        "id": "0AR9-CEHssUZ",
        "cellView": "form"
      },
      "source": [
        "%%capture\n",
        "#@title Вводим значения для генерации\n",
        "\n",
        "#@markdown Как должна начинаться песня?\n",
        "start = \"\\u0416\\u0438\\u043B\\u0438 \\u0431\\u044B\\u043B\\u0438\" #@param {type:\"string\"}\n",
        "\n",
        "#@markdown Введите рандомное число для случайности\n",
        "seed_input = 389 #@param {type:\"slider\", min:10, max:1000, step:1}\n",
        "\n",
        "#@markdown Сколько символов должно быть в сгенерированном тексте?\n",
        "max_len = 50 #@param {type:\"slider\", min:42, max:500, step:1}\n",
        "\n",
        "#@markdown Сделать текст креативным (всратым)?\n",
        "vsrato = True #@param {type:\"boolean\"}\n",
        "\n",
        "#@markdown Наказывать ли за повторения? Если нет, то выйдет типичная попса\n",
        "punishment = True #@param {type:\"boolean\"}\n",
        "\n",
        "from transformers import GPT2LMHeadModel, GPT2Tokenizer\n",
        "import numpy as np\n",
        "import torch\n",
        "np.random.seed(seed_input)\n",
        "torch.manual_seed(seed_input)\n",
        "tok = GPT2Tokenizer.from_pretrained(f\"models/{dir_name}\")\n",
        "model = GPT2LMHeadModel.from_pretrained(f\"models/{dir_name}\")\n",
        "inpt = tok.encode(start, return_tensors=\"pt\")\n",
        "\n",
        "temperature = 0.87 if not vsrato else 1\n",
        "penalty = 1.1 if not punishment else 5.0\n",
        "\n",
        "\n",
        "\n",
        "model.cuda()\n",
        "out = model.generate(inpt.cuda(), max_length=max_len, repetition_penalty=penalty, do_sample=True, top_k=50, top_p=0.7, temperature=temperature)"
      ],
      "execution_count": 31,
      "outputs": []
    },
    {
      "cell_type": "code",
      "metadata": {
        "colab": {
          "base_uri": "https://localhost:8080/"
        },
        "cellView": "form",
        "id": "RgJIBV97s-ZG",
        "outputId": "fdd7fec8-5cf9-4b1f-d2f6-7418a7a1dbd8"
      },
      "source": [
        "#@title Тык! ^_^\n",
        "import textwrap\n",
        "\n",
        "s = tok.decode(out[0])\n",
        "print(textwrap.fill(s, 40))"
      ],
      "execution_count": 32,
      "outputs": [
        {
          "output_type": "stream",
          "text": [
            "Жили были два дурака И жили себе долго и\n",
            "счастливо,      И умерли в один день.\n",
            "Плёнку склеил да домой отправил... (с)\n",
            "Владимир Высоцкий \"Слуга без страха\"\n",
            "(\"Пианино\") 1958\n"
          ],
          "name": "stdout"
        }
      ]
    },
    {
      "cell_type": "code",
      "metadata": {
        "id": "AfEQdM-Imcv0"
      },
      "source": [
        ""
      ],
      "execution_count": null,
      "outputs": []
    }
  ]
}